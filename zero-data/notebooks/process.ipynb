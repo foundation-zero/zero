{
 "cells": [
  {
   "cell_type": "code",
   "metadata": {},
   "source": [
    "from io_processing.marpower import read_amcs_excel\n",
    "import io_processing.sql.pika as io_pika\n",
    "from pypika import Query, Column\n",
    "\n",
    "%load_ext autoreload\n",
    "%autoreload 2"
   ],
   "outputs": [],
   "execution_count": null
  },
  {
   "cell_type": "code",
   "metadata": {},
   "source": [
    "df = read_amcs_excel(\"../io_lists/52422003_3210_AMCS IO-List R1.11.xlsx\")\n",
    "df"
   ],
   "outputs": [],
   "execution_count": null
  },
  {
   "cell_type": "code",
   "metadata": {},
   "source": [
    "root_topic = \"amcs/+\"\n",
    "\n",
    "\n",
    "def mqtt_source(topic):\n",
    "    mqtt_connector = io_pika.MqttConnector(\n",
    "        \"mqtt://vernemq:1883\",\n",
    "        topic,\n",
    "        \"at_least_once\",\n",
    "        \"power-hub\",\n",
    "        \"power-hub\",\n",
    "        \"bytes\",\n",
    "    )\n",
    "\n",
    "    table = Query.create_table(\"amcs\").columns(\n",
    "        io_pika.proctime_col(), io_pika.data_col()\n",
    "    )\n",
    "\n",
    "    return io_pika.table_with_connector(\n",
    "        table, mqtt_connector, [io_pika.Include(\"partition\", \"topic\")]\n",
    "    )\n",
    "\n",
    "\n",
    "print(str(mqtt_source(root_topic)))"
   ],
   "outputs": [],
   "execution_count": null
  },
  {
   "cell_type": "code",
   "metadata": {},
   "source": [
    "from io_processing.marpower import normalize_amcs_io_list\n",
    "import polars\n",
    "import polars as pl\n",
    "import yaml\n",
    "\n",
    "from io_processing.components import Components\n",
    "from io_processing.io_list import IoFlavor\n",
    "from io_processing.sql.dbt import sql_for_io\n",
    "\n",
    "io_list = normalize_amcs_io_list(df)\n",
    "components = Components(\"../components.yaml\")\n",
    "orphans = components.orphan_signals(io_list)\n",
    "\n",
    "a = io_list.select(\n",
    "    \"yard_tag\", polars.struct(polars.exclude(\"yard_tag\")).alias(\"signals\")\n",
    ")\n",
    "grouped = (\n",
    "    io_list.select(\n",
    "        \"yard_tag\", polars.struct(polars.exclude(\"yard_tag\")).alias(\"signals\")\n",
    "    ).group_by(\"yard_tag\").all()\n",
    ")\n",
    "\n",
    "combined = components.combine_io(io_list, IoFlavor.AMCS).filter(pl.col(\"type\") == \"Pump\")\n",
    "\n",
    "a, b,c= sql_for_io(components._description, combined, IoFlavor.AMCS)\n",
    "# a = (components.combine_io(io_list, IoFlavor.AMCS).with_columns(pl.col(\"signals\").list.eval(pl.element().struct.field(\"value_name\")).alias(\"value_names\"))\n",
    "#         .select(\n",
    "#             pl.col(\"system\"),\n",
    "#             pl.col(\"type\"),\n",
    "#             pl.struct(pl.exclude(\"system\", \"type\")).alias(\"components\"),\n",
    "#             pl.col(\"value_names\")\n",
    "#         )\n",
    "#         .group_by([pl.col(\"system\"), pl.col(\"type\")])\n",
    "#         .agg(pl.col(\"components\"), pl.col(\"value_names\").flatten()))\n",
    "# missing = components.missing_components(io_list)\n",
    "\n",
    "# io_list.join(components._components, (\"yard_tag\", \"tag\"), \"left\")\n",
    "# a = components.combine_io(io_list).filter(pl.col(\"signals\").list.len() > 1).with_columns(pl.col(\"signals\").list.eval(pl.element().struct.field(\"Tag\")).alias(\"tags\")).select(pl.exclude(\"signals\"))\n",
    "# grouped\n",
    "# io_list[\"type\"].unique()"
   ],
   "outputs": [],
   "execution_count": null
  },
  {
   "cell_type": "code",
   "metadata": {},
   "source": [
    "print(a)\n",
    "print(b)"
   ],
   "outputs": [],
   "execution_count": null
  },
  {
   "cell_type": "code",
   "metadata": {},
   "source": [
    "print(c[\"bilge_pump\"][0])"
   ],
   "outputs": [],
   "execution_count": null
  },
  {
   "cell_type": "code",
   "metadata": {},
   "source": [
    "print(c[\"bilge_pump\"][1])"
   ],
   "outputs": [],
   "execution_count": null
  },
  {
   "cell_type": "code",
   "metadata": {},
   "source": [
    "from io_processing.data_gen.gen import Generator\n",
    "\n",
    "genny = Generator(combined, components._description, IoFlavor.AMCS)"
   ],
   "outputs": [],
   "execution_count": null
  },
  {
   "cell_type": "code",
   "metadata": {},
   "source": [
    "import polars as pl\n",
    "\n",
    "vitters_io = polars.read_excel(\"io_lists/hydraulic-plc/9428050-4 Sail-Hydraulic PLC IO list.xlsx\", sheet_name=\"IO list\", read_options={\"header_row\": 24})\n",
    "vitters_cabling = polars.read_excel(\"io_lists/hydraulic-plc/9428051-4 Sail PLC cable list.xlsx\", read_options={\"header_row\": 10})\n",
    "with_components = vitters_io.with_columns(\n",
    "  polars.col(\"PLC var-Name\").str.extract(r\"^([a-zA-Z_\\d]+)\\..*\").alias(\"component\")\n",
    ")\n",
    "joined_with_cabling = (\n",
    "    with_components.filter((pl.col(\"component\").is_not_null()))\n",
    "    .join(vitters_cabling, left_on=\"1st cable no.\", right_on=\"Cable no.\", how=\"left\")\n",
    "    .select(\n",
    "        pl.col(\"component\"),\n",
    "        pl.col(\"1st cable no.\"),\n",
    "        pl.col(\"Source pos\").alias(\"first source pos\"),\n",
    "        pl.col(\"Target pos\").alias(\"first target\"),\n",
    "        pl.col(\"PLC var-Name\"),\n",
    "        pl.col(\"2nd cable no.\"),\n",
    "    )\n",
    "    .join(vitters_cabling, left_on=\"2nd cable no.\", right_on=\"Cable no.\", how=\"left\")\n",
    "    .select(\n",
    "        pl.col(\"component\"),\n",
    "        pl.col(\"1st cable no.\"),\n",
    "        pl.col(\"first source pos\"),\n",
    "        pl.col(\"first target\"),\n",
    "        pl.col(\"Source pos\").alias(\"second source poc\"),\n",
    "        pl.col(\"Target pos\").alias(\"second target\"),\n",
    "        pl.col(\"PLC var-Name\"),\n",
    "        pl.col(\"2nd cable no.\"),\n",
    "    )\n",
    ")"
   ],
   "outputs": [],
   "execution_count": null
  },
  {
   "cell_type": "code",
   "metadata": {},
   "source": [
    "\n",
    "first_cable_join = vitters_cabling.join(\n",
    "  vitters_io,\n",
    "  left_on=\"Cable no.\",\n",
    "  right_on=\"1st cable no.\"\n",
    ")\n",
    "second_cable_join = vitters_cabling.join(\n",
    "  vitters_io,\n",
    "  left_on=\"Cable no.\",\n",
    "  right_on=\"2nd cable no.\"\n",
    ")\n",
    "\n",
    "missing = (\n",
    "    set(vitters_io[\"PLC var-Name\"].to_list())\n",
    "    - set(first_cable_join[\"PLC var-Name\"].to_list())\n",
    "    - set(second_cable_join[\"PLC var-Name\"].to_list())\n",
    ")\n",
    "\n",
    "blabla = vitters_io.filter(polars.col(\"PLC var-Name\").is_in(missing) & polars.col(\"IO box / Location\").is_in([\"KEEL\", \"MST\"]))\n",
    "\n",
    "\n",
    "# (polars.col(\"Cable no.\") == polars.col(\"2nd cable no.\"))"
   ],
   "outputs": [],
   "execution_count": null
  }
 ],
 "metadata": {
  "kernelspec": {
   "display_name": ".venv",
   "language": "python",
   "name": "python3"
  },
  "language_info": {
   "codemirror_mode": {
    "name": "ipython",
    "version": 3
   },
   "file_extension": ".py",
   "mimetype": "text/x-python",
   "name": "python",
   "nbconvert_exporter": "python",
   "pygments_lexer": "ipython3",
   "version": "3.13.0"
  }
 },
 "nbformat": 4,
 "nbformat_minor": 2
}
