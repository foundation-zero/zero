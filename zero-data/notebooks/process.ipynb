{
 "cells": [
  {
   "cell_type": "code",
   "metadata": {
    "ExecuteTime": {
     "end_time": "2025-01-07T10:09:48.417460Z",
     "start_time": "2025-01-07T10:09:48.241441Z"
    }
   },
   "source": [
    "from io_processing.marpower import read_excel\n",
    "import io_processing.sql.pika as io_pika\n",
    "from pypika import Query, Column\n",
    "\n",
    "%load_ext autoreload\n",
    "%autoreload 2"
   ],
   "outputs": [],
   "execution_count": 1
  },
  {
   "cell_type": "code",
   "metadata": {
    "ExecuteTime": {
     "end_time": "2025-01-07T10:09:50.401135Z",
     "start_time": "2025-01-07T10:09:49.089312Z"
    }
   },
   "source": [
    "df = read_excel(\"../io_lists/52422003_3210_AMCS IO-List R1.11.xlsx\")\n",
    "df"
   ],
   "outputs": [
    {
     "data": {
      "text/plain": [
       "shape: (1_276, 70)\n",
       "┌───────┬─────────┬─────────────┬─────────┬───┬────────┬────────────┬─────────────┬───────────┐\n",
       "│ Rev.  ┆ Deleted ┆ Target Type ┆ Device  ┆ … ┆ Log To ┆ Log to CDP ┆ Workstation ┆ Timestamp │\n",
       "│ ---   ┆ ---     ┆ ---         ┆ ---     ┆   ┆ Daily  ┆ ---        ┆ ---         ┆ ---       │\n",
       "│ str   ┆ str     ┆ str         ┆ str     ┆   ┆ Report ┆ null       ┆ null        ┆ null      │\n",
       "│       ┆         ┆             ┆         ┆   ┆ ---    ┆            ┆             ┆           │\n",
       "│       ┆         ┆             ┆         ┆   ┆ null   ┆            ┆             ┆           │\n",
       "╞═══════╪═════════╪═════════════╪═════════╪═══╪════════╪════════════╪═════════════╪═══════════╡\n",
       "│ null  ┆ True    ┆ null        ┆ null    ┆ … ┆ null   ┆ null       ┆ null        ┆ null      │\n",
       "│ R1.8  ┆ null    ┆ Bool        ┆ KEB1    ┆ … ┆ null   ┆ null       ┆ null        ┆ null      │\n",
       "│ R1.9  ┆ null    ┆ Bool        ┆ KEB1    ┆ … ┆ null   ┆ null       ┆ null        ┆ null      │\n",
       "│ R0.0  ┆ null    ┆ Bool        ┆ KEB1    ┆ … ┆ null   ┆ null       ┆ null        ┆ null      │\n",
       "│ R0.0  ┆ null    ┆ Bool        ┆ KEB1    ┆ … ┆ null   ┆ null       ┆ null        ┆ null      │\n",
       "│ …     ┆ …       ┆ …           ┆ …       ┆ … ┆ …      ┆ …          ┆ …           ┆ …         │\n",
       "│ R0.1  ┆ True    ┆ null        ┆ KEC3_P4 ┆ … ┆ null   ┆ null       ┆ null        ┆ null      │\n",
       "│ R0.1  ┆ True    ┆ null        ┆ KEC3_P4 ┆ … ┆ null   ┆ null       ┆ null        ┆ null      │\n",
       "│ R0.1  ┆ True    ┆ null        ┆ KEC3_P4 ┆ … ┆ null   ┆ null       ┆ null        ┆ null      │\n",
       "│ R0.1  ┆ True    ┆ null        ┆ KEC3_P4 ┆ … ┆ null   ┆ null       ┆ null        ┆ null      │\n",
       "│ null  ┆ True    ┆ null        ┆ null    ┆ … ┆ null   ┆ null       ┆ null        ┆ null      │\n",
       "└───────┴─────────┴─────────────┴─────────┴───┴────────┴────────────┴─────────────┴───────────┘"
      ],
      "text/html": [
       "<div><style>\n",
       ".dataframe > thead > tr,\n",
       ".dataframe > tbody > tr {\n",
       "  text-align: right;\n",
       "  white-space: pre-wrap;\n",
       "}\n",
       "</style>\n",
       "<small>shape: (1_276, 70)</small><table border=\"1\" class=\"dataframe\"><thead><tr><th>Rev.</th><th>Deleted</th><th>Target Type</th><th>Device</th><th>Module</th><th>Module Type</th><th>Terminal</th><th>Is Subscribe</th><th>Prefix Device</th><th>Tag</th><th>Cabinet</th><th>System</th><th>Yard Tag</th><th>Description</th><th>Parent</th><th>Redundant tag</th><th>P&amp;ID</th><th>Cable ID</th><th>Cable Type</th><th>Cable Core No.</th><th>OPC UA Node ID</th><th>OPC UA Publish Interval</th><th>Modbus Slave Address</th><th>Modbus Data Type</th><th>Modbus Address</th><th>Modbus Source Type</th><th>Modbus Byte Size</th><th>Modbus Swap Words</th><th>Modbus Lower</th><th>Modbus Upper</th><th>Range Lower</th><th>Range Upper</th><th>Unit</th><th>Precision</th><th>Alert Code</th><th>Alert HH</th><th>Alert H</th><th>Alert L</th><th>Alert LL</th><th>Alert F</th><th>Delay On</th><th>Acknowledge Location</th><th>Sounding Locations</th><th>Alert priority</th><th>Intended Operator Response</th><th>Category A</th><th>Group Alarm</th><th>Call GEA on Alert </th><th>Disallow Inhibit</th><th>Vdr ID</th><th>General Lock Tag</th><th>General Lock Operator</th><th>General Lock Level</th><th>HH Lock Tag</th><th>HH Lock Operator</th><th>HH Lock Level</th><th>H Lock Tag</th><th>H Lock Operator</th><th>H Lock Level</th><th>L Lock Tag</th><th>L Lock Operator</th><th>L Lock Level</th><th>LL Lock Tag</th><th>LL Lock Operator</th><th>LL Lock Level</th><th>Do Not Log</th><th>Log To Daily Report</th><th>Log to CDP</th><th>Workstation</th><th>Timestamp</th></tr><tr><td>str</td><td>str</td><td>str</td><td>str</td><td>str</td><td>str</td><td>str</td><td>null</td><td>str</td><td>str</td><td>str</td><td>str</td><td>str</td><td>str</td><td>null</td><td>null</td><td>null</td><td>str</td><td>str</td><td>null</td><td>null</td><td>null</td><td>str</td><td>str</td><td>str</td><td>null</td><td>null</td><td>null</td><td>null</td><td>null</td><td>str</td><td>str</td><td>str</td><td>null</td><td>str</td><td>str</td><td>str</td><td>str</td><td>null</td><td>str</td><td>str</td><td>str</td><td>null</td><td>str</td><td>str</td><td>null</td><td>null</td><td>null</td><td>null</td><td>str</td><td>null</td><td>null</td><td>null</td><td>null</td><td>null</td><td>null</td><td>null</td><td>null</td><td>null</td><td>null</td><td>null</td><td>null</td><td>null</td><td>null</td><td>null</td><td>null</td><td>null</td><td>null</td><td>null</td><td>null</td></tr></thead><tbody><tr><td>null</td><td>&quot;True&quot;</td><td>null</td><td>null</td><td>null</td><td>null</td><td>null</td><td>null</td><td>null</td><td>null</td><td>null</td><td>null</td><td>null</td><td>&quot;ALARM CABINET - AMCS Main tech…</td><td>null</td><td>null</td><td>null</td><td>null</td><td>null</td><td>null</td><td>null</td><td>null</td><td>null</td><td>null</td><td>null</td><td>null</td><td>null</td><td>null</td><td>null</td><td>null</td><td>null</td><td>null</td><td>null</td><td>null</td><td>null</td><td>null</td><td>null</td><td>null</td><td>null</td><td>null</td><td>null</td><td>null</td><td>null</td><td>null</td><td>null</td><td>null</td><td>null</td><td>null</td><td>null</td><td>null</td><td>null</td><td>null</td><td>null</td><td>null</td><td>null</td><td>null</td><td>null</td><td>null</td><td>null</td><td>null</td><td>null</td><td>null</td><td>null</td><td>null</td><td>null</td><td>null</td><td>null</td><td>null</td><td>null</td><td>null</td></tr><tr><td>&quot;R1.8&quot;</td><td>null</td><td>&quot;Bool&quot;</td><td>&quot;KEB1&quot;</td><td>&quot;DI00&quot;</td><td>&quot;750-1415&quot;</td><td>&quot;1&quot;</td><td>null</td><td>null</td><td>&quot;AmcsPowerSupplyFailure&quot;</td><td>&quot;DSK_SWR&quot;</td><td>&quot;4500 AMCS&quot;</td><td>null</td><td>&quot;MTS AMCS 1 Power Supply Failur…</td><td>null</td><td>null</td><td>null</td><td>null</td><td>null</td><td>null</td><td>null</td><td>null</td><td>null</td><td>null</td><td>null</td><td>null</td><td>null</td><td>null</td><td>null</td><td>null</td><td>null</td><td>null</td><td>null</td><td>null</td><td>&quot;4&quot;</td><td>null</td><td>null</td><td>null</td><td>null</td><td>&quot;False&quot;</td><td>null</td><td>&quot;TS&quot;</td><td>null</td><td>&quot;Alarm&quot;</td><td>&quot;Check Primary (G2) supply, Sec…</td><td>null</td><td>null</td><td>null</td><td>null</td><td>&quot;1&quot;</td><td>null</td><td>null</td><td>null</td><td>null</td><td>null</td><td>null</td><td>null</td><td>null</td><td>null</td><td>null</td><td>null</td><td>null</td><td>null</td><td>null</td><td>null</td><td>null</td><td>null</td><td>null</td><td>null</td><td>null</td></tr><tr><td>&quot;R1.9&quot;</td><td>null</td><td>&quot;Bool&quot;</td><td>&quot;KEB1&quot;</td><td>&quot;DI00&quot;</td><td>&quot;750-1415&quot;</td><td>&quot;2&quot;</td><td>null</td><td>null</td><td>&quot;Spare_DI00_2&quot;</td><td>&quot;DSK_SWR&quot;</td><td>&quot;4500 AMCS&quot;</td><td>null</td><td>&quot;Spare&quot;</td><td>null</td><td>null</td><td>null</td><td>null</td><td>null</td><td>null</td><td>null</td><td>null</td><td>null</td><td>null</td><td>null</td><td>null</td><td>null</td><td>null</td><td>null</td><td>null</td><td>null</td><td>null</td><td>null</td><td>null</td><td>&quot;5&quot;</td><td>null</td><td>null</td><td>null</td><td>null</td><td>&quot;False&quot;</td><td>null</td><td>&quot;TS&quot;</td><td>null</td><td>&quot;Alarm&quot;</td><td>&quot;Check for earth fault&quot;</td><td>null</td><td>null</td><td>null</td><td>null</td><td>&quot;1&quot;</td><td>null</td><td>null</td><td>null</td><td>null</td><td>null</td><td>null</td><td>null</td><td>null</td><td>null</td><td>null</td><td>null</td><td>null</td><td>null</td><td>null</td><td>null</td><td>null</td><td>null</td><td>null</td><td>null</td><td>null</td></tr><tr><td>&quot;R0.0&quot;</td><td>null</td><td>&quot;Bool&quot;</td><td>&quot;KEB1&quot;</td><td>&quot;DI00&quot;</td><td>&quot;750-1415&quot;</td><td>&quot;3&quot;</td><td>null</td><td>null</td><td>&quot;UmsEntranceUnitMannedSwitch&quot;</td><td>&quot;DSK_SWR&quot;</td><td>&quot;4500 AMCS&quot;</td><td>null</td><td>&quot;UMS Entrance Unit Manned Switc…</td><td>null</td><td>null</td><td>null</td><td>null</td><td>null</td><td>null</td><td>null</td><td>null</td><td>null</td><td>null</td><td>null</td><td>null</td><td>null</td><td>null</td><td>null</td><td>null</td><td>null</td><td>null</td><td>null</td><td>null</td><td>null</td><td>null</td><td>null</td><td>null</td><td>null</td><td>null</td><td>null</td><td>null</td><td>null</td><td>null</td><td>null</td><td>null</td><td>null</td><td>null</td><td>null</td><td>null</td><td>null</td><td>null</td><td>null</td><td>null</td><td>null</td><td>null</td><td>null</td><td>null</td><td>null</td><td>null</td><td>null</td><td>null</td><td>null</td><td>null</td><td>null</td><td>null</td><td>null</td><td>null</td><td>null</td><td>null</td></tr><tr><td>&quot;R0.0&quot;</td><td>null</td><td>&quot;Bool&quot;</td><td>&quot;KEB1&quot;</td><td>&quot;DI00&quot;</td><td>&quot;750-1415&quot;</td><td>&quot;4&quot;</td><td>null</td><td>null</td><td>&quot;UmsEntranceUnitUnmannedSwitch&quot;</td><td>&quot;DSK_SWR&quot;</td><td>&quot;4500 AMCS&quot;</td><td>null</td><td>&quot;UMS Entrance Unit Unmanned Swi…</td><td>null</td><td>null</td><td>null</td><td>null</td><td>null</td><td>null</td><td>null</td><td>null</td><td>null</td><td>null</td><td>null</td><td>null</td><td>null</td><td>null</td><td>null</td><td>null</td><td>null</td><td>null</td><td>null</td><td>null</td><td>null</td><td>null</td><td>null</td><td>null</td><td>null</td><td>null</td><td>null</td><td>null</td><td>null</td><td>null</td><td>null</td><td>null</td><td>null</td><td>null</td><td>null</td><td>null</td><td>null</td><td>null</td><td>null</td><td>null</td><td>null</td><td>null</td><td>null</td><td>null</td><td>null</td><td>null</td><td>null</td><td>null</td><td>null</td><td>null</td><td>null</td><td>null</td><td>null</td><td>null</td><td>null</td><td>null</td></tr><tr><td>&hellip;</td><td>&hellip;</td><td>&hellip;</td><td>&hellip;</td><td>&hellip;</td><td>&hellip;</td><td>&hellip;</td><td>&hellip;</td><td>&hellip;</td><td>&hellip;</td><td>&hellip;</td><td>&hellip;</td><td>&hellip;</td><td>&hellip;</td><td>&hellip;</td><td>&hellip;</td><td>&hellip;</td><td>&hellip;</td><td>&hellip;</td><td>&hellip;</td><td>&hellip;</td><td>&hellip;</td><td>&hellip;</td><td>&hellip;</td><td>&hellip;</td><td>&hellip;</td><td>&hellip;</td><td>&hellip;</td><td>&hellip;</td><td>&hellip;</td><td>&hellip;</td><td>&hellip;</td><td>&hellip;</td><td>&hellip;</td><td>&hellip;</td><td>&hellip;</td><td>&hellip;</td><td>&hellip;</td><td>&hellip;</td><td>&hellip;</td><td>&hellip;</td><td>&hellip;</td><td>&hellip;</td><td>&hellip;</td><td>&hellip;</td><td>&hellip;</td><td>&hellip;</td><td>&hellip;</td><td>&hellip;</td><td>&hellip;</td><td>&hellip;</td><td>&hellip;</td><td>&hellip;</td><td>&hellip;</td><td>&hellip;</td><td>&hellip;</td><td>&hellip;</td><td>&hellip;</td><td>&hellip;</td><td>&hellip;</td><td>&hellip;</td><td>&hellip;</td><td>&hellip;</td><td>&hellip;</td><td>&hellip;</td><td>&hellip;</td><td>&hellip;</td><td>&hellip;</td><td>&hellip;</td><td>&hellip;</td></tr><tr><td>&quot;R0.1 &quot;</td><td>&quot;True&quot;</td><td>null</td><td>&quot;KEC3_P4&quot;</td><td>null</td><td>null</td><td>null</td><td>null</td><td>null</td><td>&quot;Serial__Var47&quot;</td><td>&quot;+CB.2&quot;</td><td>&quot;SPARE&quot;</td><td>null</td><td>&quot;TODO&quot;</td><td>null</td><td>null</td><td>null</td><td>null</td><td>null</td><td>null</td><td>null</td><td>null</td><td>null</td><td>null</td><td>null</td><td>null</td><td>null</td><td>null</td><td>null</td><td>null</td><td>null</td><td>null</td><td>null</td><td>null</td><td>null</td><td>null</td><td>null</td><td>null</td><td>null</td><td>null</td><td>null</td><td>null</td><td>null</td><td>null</td><td>null</td><td>null</td><td>null</td><td>null</td><td>null</td><td>null</td><td>null</td><td>null</td><td>null</td><td>null</td><td>null</td><td>null</td><td>null</td><td>null</td><td>null</td><td>null</td><td>null</td><td>null</td><td>null</td><td>null</td><td>null</td><td>null</td><td>null</td><td>null</td><td>null</td><td>null</td></tr><tr><td>&quot;R0.1 &quot;</td><td>&quot;True&quot;</td><td>null</td><td>&quot;KEC3_P4&quot;</td><td>null</td><td>null</td><td>null</td><td>null</td><td>null</td><td>&quot;Serial__Var48&quot;</td><td>&quot;+CB.2&quot;</td><td>&quot;SPARE&quot;</td><td>null</td><td>&quot;TODO&quot;</td><td>null</td><td>null</td><td>null</td><td>null</td><td>null</td><td>null</td><td>null</td><td>null</td><td>null</td><td>null</td><td>null</td><td>null</td><td>null</td><td>null</td><td>null</td><td>null</td><td>null</td><td>null</td><td>null</td><td>null</td><td>null</td><td>null</td><td>null</td><td>null</td><td>null</td><td>null</td><td>null</td><td>null</td><td>null</td><td>null</td><td>null</td><td>null</td><td>null</td><td>null</td><td>null</td><td>null</td><td>null</td><td>null</td><td>null</td><td>null</td><td>null</td><td>null</td><td>null</td><td>null</td><td>null</td><td>null</td><td>null</td><td>null</td><td>null</td><td>null</td><td>null</td><td>null</td><td>null</td><td>null</td><td>null</td><td>null</td></tr><tr><td>&quot;R0.1 &quot;</td><td>&quot;True&quot;</td><td>null</td><td>&quot;KEC3_P4&quot;</td><td>null</td><td>null</td><td>null</td><td>null</td><td>null</td><td>&quot;Serial__Var49&quot;</td><td>&quot;+CB.2&quot;</td><td>&quot;SPARE&quot;</td><td>null</td><td>&quot;TODO&quot;</td><td>null</td><td>null</td><td>null</td><td>null</td><td>null</td><td>null</td><td>null</td><td>null</td><td>null</td><td>null</td><td>null</td><td>null</td><td>null</td><td>null</td><td>null</td><td>null</td><td>null</td><td>null</td><td>null</td><td>null</td><td>null</td><td>null</td><td>null</td><td>null</td><td>null</td><td>null</td><td>null</td><td>null</td><td>null</td><td>null</td><td>null</td><td>null</td><td>null</td><td>null</td><td>null</td><td>null</td><td>null</td><td>null</td><td>null</td><td>null</td><td>null</td><td>null</td><td>null</td><td>null</td><td>null</td><td>null</td><td>null</td><td>null</td><td>null</td><td>null</td><td>null</td><td>null</td><td>null</td><td>null</td><td>null</td><td>null</td></tr><tr><td>&quot;R0.1 &quot;</td><td>&quot;True&quot;</td><td>null</td><td>&quot;KEC3_P4&quot;</td><td>null</td><td>null</td><td>null</td><td>null</td><td>null</td><td>&quot;Serial__Var50&quot;</td><td>&quot;+CB.2&quot;</td><td>&quot;SPARE&quot;</td><td>null</td><td>&quot;TODO&quot;</td><td>null</td><td>null</td><td>null</td><td>null</td><td>null</td><td>null</td><td>null</td><td>null</td><td>null</td><td>null</td><td>null</td><td>null</td><td>null</td><td>null</td><td>null</td><td>null</td><td>null</td><td>null</td><td>null</td><td>null</td><td>null</td><td>null</td><td>null</td><td>null</td><td>null</td><td>null</td><td>null</td><td>null</td><td>null</td><td>null</td><td>null</td><td>null</td><td>null</td><td>null</td><td>null</td><td>null</td><td>null</td><td>null</td><td>null</td><td>null</td><td>null</td><td>null</td><td>null</td><td>null</td><td>null</td><td>null</td><td>null</td><td>null</td><td>null</td><td>null</td><td>null</td><td>null</td><td>null</td><td>null</td><td>null</td><td>null</td></tr><tr><td>null</td><td>&quot;True&quot;</td><td>null</td><td>null</td><td>null</td><td>null</td><td>null</td><td>null</td><td>null</td><td>null</td><td>null</td><td>null</td><td>null</td><td>&quot;EOF&quot;</td><td>null</td><td>null</td><td>null</td><td>null</td><td>null</td><td>null</td><td>null</td><td>null</td><td>null</td><td>null</td><td>null</td><td>null</td><td>null</td><td>null</td><td>null</td><td>null</td><td>null</td><td>null</td><td>null</td><td>null</td><td>null</td><td>null</td><td>null</td><td>null</td><td>null</td><td>null</td><td>null</td><td>null</td><td>null</td><td>null</td><td>null</td><td>null</td><td>null</td><td>null</td><td>null</td><td>null</td><td>null</td><td>null</td><td>null</td><td>null</td><td>null</td><td>null</td><td>null</td><td>null</td><td>null</td><td>null</td><td>null</td><td>null</td><td>null</td><td>null</td><td>null</td><td>null</td><td>null</td><td>null</td><td>null</td><td>null</td></tr></tbody></table></div>"
      ]
     },
     "execution_count": 2,
     "metadata": {},
     "output_type": "execute_result"
    }
   ],
   "execution_count": 2
  },
  {
   "cell_type": "code",
   "metadata": {
    "ExecuteTime": {
     "end_time": "2025-01-07T10:09:51.787131Z",
     "start_time": "2025-01-07T10:09:51.776141Z"
    }
   },
   "source": [
    "root_topic = \"amcs/+\"\n",
    "\n",
    "\n",
    "def mqtt_source(topic):\n",
    "    mqtt_connector = io_pika.MqttConnector(\n",
    "        \"mqtt://vernemq:1883\",\n",
    "        topic,\n",
    "        \"at_least_once\",\n",
    "        \"power-hub\",\n",
    "        \"power-hub\",\n",
    "        \"bytes\",\n",
    "    )\n",
    "\n",
    "    table = Query.create_table(\"amcs\").columns(\n",
    "        io_pika.proctime_col(), io_pika.data_col()\n",
    "    )\n",
    "\n",
    "    return io_pika.table_with_connector(\n",
    "        table, mqtt_connector, [io_pika.Include(\"partition\", \"topic\")]\n",
    "    )\n",
    "\n",
    "\n",
    "print(str(mqtt_source(root_topic)))"
   ],
   "outputs": [
    {
     "name": "stdout",
     "output_type": "stream",
     "text": [
      "CREATE TABLE \"amcs\" (\"timestamp\" TIMESTAMPTZ AS PROCTIME(),\"data\" BYTEA)\n",
      "INCLUDE partition AS topic\n",
      "WITH (connector = 'mqtt',\n",
      "url = 'mqtt://vernemq:1883',\n",
      "topic = 'amcs/+',\n",
      "qos = 'at_least_once',\n",
      "username = 'power-hub',\n",
      "password = 'power-hub',\n",
      "max_packet_size = 2000000\n",
      ") FORMAT PLAIN ENCODE BYTES\n"
     ]
    }
   ],
   "execution_count": 3
  },
  {
   "cell_type": "code",
   "metadata": {
    "ExecuteTime": {
     "end_time": "2025-01-07T10:11:41.036201Z",
     "start_time": "2025-01-07T10:11:40.920325Z"
    }
   },
   "source": [
    "import polars\n",
    "import polars as pl\n",
    "import yaml\n",
    "\n",
    "from io_processing.components import Components\n",
    "from io_processing.io_list import normalize_io_list, IoFlavor\n",
    "from io_processing.sql.dbt import sql_for_io\n",
    "\n",
    "io_list = normalize_io_list(df, IoFlavor.AMCS)\n",
    "components = Components(\"../components.yaml\")\n",
    "orphans = components.orphan_signals(io_list)\n",
    "\n",
    "a = io_list.select(\n",
    "    \"yard_tag\", polars.struct(polars.exclude(\"yard_tag\")).alias(\"signals\")\n",
    ")\n",
    "grouped = (\n",
    "    io_list.select(\n",
    "        \"yard_tag\", polars.struct(polars.exclude(\"yard_tag\")).alias(\"signals\")\n",
    "    ).group_by(\"yard_tag\").all()\n",
    ")\n",
    "\n",
    "combined = components.combine_io(io_list, IoFlavor.AMCS).filter(pl.col(\"type\") == \"Pump\")\n",
    "\n",
    "a, b,c= sql_for_io(components._description, combined, IoFlavor.AMCS)\n",
    "# a = (components.combine_io(io_list, IoFlavor.AMCS).with_columns(pl.col(\"signals\").list.eval(pl.element().struct.field(\"value_name\")).alias(\"value_names\"))\n",
    "#         .select(\n",
    "#             pl.col(\"system\"),\n",
    "#             pl.col(\"type\"),\n",
    "#             pl.struct(pl.exclude(\"system\", \"type\")).alias(\"components\"),\n",
    "#             pl.col(\"value_names\")\n",
    "#         )\n",
    "#         .group_by([pl.col(\"system\"), pl.col(\"type\")])\n",
    "#         .agg(pl.col(\"components\"), pl.col(\"value_names\").flatten()))\n",
    "# missing = components.missing_components(io_list)\n",
    "\n",
    "# io_list.join(components._components, (\"yard_tag\", \"tag\"), \"left\")\n",
    "# a = components.combine_io(io_list).filter(pl.col(\"signals\").list.len() > 1).with_columns(pl.col(\"signals\").list.eval(pl.element().struct.field(\"Tag\")).alias(\"tags\")).select(pl.exclude(\"signals\"))\n",
    "# grouped\n",
    "# io_list[\"type\"].unique()"
   ],
   "outputs": [],
   "execution_count": 7
  },
  {
   "cell_type": "code",
   "metadata": {
    "ExecuteTime": {
     "end_time": "2025-01-07T10:11:43.202513Z",
     "start_time": "2025-01-07T10:11:43.191807Z"
    }
   },
   "source": [
    "print(a)\n",
    "print(b)"
   ],
   "outputs": [
    {
     "name": "stdout",
     "output_type": "stream",
     "text": [
      "CREATE SOURCE \"amcs\" (\"data\" BYTEA,\"timestamp\" TIMESTAMPTZ AS PROCTIME())\n",
      "INCLUDE partition AS topic\n",
      "WITH (connector = 'mqtt',\n",
      "url = 'mqtt://vernemq:1883',\n",
      "topic = 'amcs/+',\n",
      "qos = 'at_least_once',\n",
      "username = 'power-hub',\n",
      "password = 'power-hub',\n",
      "max_packet_size = 2000000\n",
      ") FORMAT PLAIN ENCODE BYTES\n",
      "CREATE TABLE \"signals\" (\"topic\" VARCHAR,\"yard_tag\" VARCHAR,\"value_name\" VARCHAR,PRIMARY KEY (\"topic\"))\n"
     ]
    }
   ],
   "execution_count": 8
  },
  {
   "cell_type": "code",
   "metadata": {
    "ExecuteTime": {
     "end_time": "2025-01-07T10:11:45.502131Z",
     "start_time": "2025-01-07T10:11:45.491018Z"
    }
   },
   "source": [
    "print(c[\"bilge_pump\"][0])"
   ],
   "outputs": [
    {
     "name": "stdout",
     "output_type": "stream",
     "text": [
      "INSERT INTO \"signals\" VALUES ('amcs/GEN_SERV_PUMP1_REM_AVAIL','21001001','remote_available'),('amcs/GEN_SERV_PUMP1_REM_START','21001001','remote_start'),('amcs/GEN_SERV_PUMP2_REM_AVAIL','21001002','remote_available'),('amcs/GEN_SERV_PUMP2_FIELD_START','21001002','field_start'),('amcs/GEN_SERV_PUMP2_FIELD_STOP','21001002','field_stop'),('amcs/GEN_SERV_PUMP2_REM_START','21001002','remote_start'),('amcs/BCKUP_GEN_SERV_PUMP_REM_AVAIL','21001003','remote_available'),('amcs/BCKUP_GEN_SERV_PUMP_FIELD_START','21001003','field_start'),('amcs/BCKUP_GEN_SERV_PUMP_FIELD_STOP','21001003','field_stop'),('amcs/BCKUP_GEN_SERV_PUMP_START_RUN','21001003','start_or_running'),('amcs/BCKUP_GEN_SERV_PUMP_FIELD_RUNN_FDBCK','21001003','field_feedback_running'),('amcs/STRIP_PUMP_REM_AVAIL','21001004','remote_available'),('amcs/STRIP_PUMP_RUNNING','21001004','running'),('amcs/GEN_SERV_PUMP2_FIELD_RUNN_FDBCK','21001004','field_feedback_running'),('amcs/STRIP_PUMP_START','21001004','start'),('amcs/STRIP_PUMP_STOP','21001004','stop'),('amcs/CHAIN_LOCK_PUMP_REM_AVAIL','21001005','remote_available'),('amcs/CHAIN_LOCK_PUMP_RUNNING','21001005','running'),('amcs/CHAIN_LOCK_PUMP_START','21001005','start'),('amcs/CHAIN_LOCK_PUMP_STOP','21001005','stop'),('amcs/SUBMERS_PUMP1_REM_AVAIL','21001006-1','remote_available'),('amcs/SUBMERS_PUMP1_RUNNING','21001006-1','running'),('amcs/Spare_DI21_8_','21001006-1',NULL),('amcs/SUBMERS_PUMP1_LEVEL_HIGH','21001006-1','level_high'),('amcs/SUBMERS_PUMP2_REM_AVAIL','21001006-2','remote_available'),('amcs/SUBMERS_PUMP2_RUNNING','21001006-2','running'),('amcs/Spare_DI22_3_','21001006-2',NULL),('amcs/SUBMERS_PUMP2_LEVEL_HIGH','21001006-2','level_high'),('amcs/SUBMERS_PUMP3_REM_AVAIL','21001006-3','remote_available'),('amcs/SUBMERS_PUMP3_RUNNING','21001006-3','running'),('amcs/Spare_DI22_6_','21001006-3',NULL),('amcs/SUBMERS_PUMP3_LEVEL_HIGH','21001006-3','level_high')\n"
     ]
    }
   ],
   "execution_count": 9
  },
  {
   "cell_type": "code",
   "metadata": {
    "ExecuteTime": {
     "end_time": "2025-01-07T10:11:46.727290Z",
     "start_time": "2025-01-07T10:11:46.716322Z"
    }
   },
   "source": [
    "print(c[\"bilge_pump\"][1])"
   ],
   "outputs": [
    {
     "name": "stdout",
     "output_type": "stream",
     "text": [
      "CREATE MATERIALIZED VIEW bilge_pumps AS WITH pivotted_signals AS (SELECT amcs.timestamp,signals.yard_tag,CASE WHEN signals.value_name='remote_start' THEN CAST(convert_from(amcs.data,'utf-8') AS BOOLEAN) ELSE NULL END remote_start,CASE WHEN signals.value_name='remote_available' THEN CAST(convert_from(amcs.data,'utf-8') AS BOOLEAN) ELSE NULL END remote_available,CASE WHEN signals.value_name='running' THEN CAST(convert_from(amcs.data,'utf-8') AS BOOLEAN) ELSE NULL END running,CASE WHEN signals.value_name='field_feedback_running' THEN CAST(convert_from(amcs.data,'utf-8') AS BOOLEAN) ELSE NULL END field_feedback_running,CASE WHEN signals.value_name='field_start' THEN CAST(convert_from(amcs.data,'utf-8') AS BOOLEAN) ELSE NULL END field_start,CASE WHEN signals.value_name='field_stop' THEN CAST(convert_from(amcs.data,'utf-8') AS BOOLEAN) ELSE NULL END field_stop,CASE WHEN signals.value_name='level_high' THEN CAST(convert_from(amcs.data,'utf-8') AS BOOLEAN) ELSE NULL END level_high,CASE WHEN signals.value_name='start_stop' THEN CAST(convert_from(amcs.data,'utf-8') AS BOOLEAN) ELSE NULL END start_stop,CASE WHEN signals.value_name='start_or_running' THEN CAST(convert_from(amcs.data,'utf-8') AS BOOLEAN) ELSE NULL END start_or_running,CASE WHEN signals.value_name='start' THEN CAST(convert_from(amcs.data,'utf-8') AS BOOLEAN) ELSE NULL END start,CASE WHEN signals.value_name='stop' THEN CAST(convert_from(amcs.data,'utf-8') AS BOOLEAN) ELSE NULL END stop FROM amcs JOIN signals ON amcs.topic=signals.topic) SELECT window_start,window_end,yard_tag,FIRST_VALUE(remote_start ORDER BY remote_start) remote_start,FIRST_VALUE(remote_available ORDER BY remote_available) remote_available,FIRST_VALUE(running ORDER BY running) running,FIRST_VALUE(field_feedback_running ORDER BY field_feedback_running) field_feedback_running,FIRST_VALUE(field_start ORDER BY field_start) field_start,FIRST_VALUE(field_stop ORDER BY field_stop) field_stop,FIRST_VALUE(level_high ORDER BY level_high) level_high,FIRST_VALUE(start_stop ORDER BY start_stop) start_stop,FIRST_VALUE(start_or_running ORDER BY start_or_running) start_or_running,FIRST_VALUE(start ORDER BY start) start,FIRST_VALUE(stop ORDER BY stop) stop FROM TUMBLE(pivotted_signals,timestamp,INTERVAL '1 SECONDS') GROUP BY window_start,window_end,yard_tag\n"
     ]
    }
   ],
   "execution_count": 10
  },
  {
   "cell_type": "code",
   "execution_count": 20,
   "metadata": {},
   "outputs": [],
   "source": [
    "from io_processing.data_gen.gen import Generator\n",
    "import polars as pl\n",
    "\n",
    "genny = Generator(combined, components._description, IoFlavor.AMCS)"
   ]
  },
  {
   "cell_type": "code",
   "execution_count": 199,
   "metadata": {},
   "outputs": [],
   "source": [
    "import polars as pl\n",
    "\n",
    "vitters_io = polars.read_excel(\"io_lists/hydraulic-plc/9428050-4 Sail-Hydraulic PLC IO list.xlsx\", sheet_name=\"IO list\", read_options={\"header_row\": 24})\n",
    "vitters_cabling = polars.read_excel(\"io_lists/hydraulic-plc/9428051-4 Sail PLC cable list.xlsx\", read_options={\"header_row\": 10})\n",
    "with_components = vitters_io.with_columns(\n",
    "  polars.col(\"PLC var-Name\").str.extract(r\"^([a-zA-Z_\\d]+)\\..*\").alias(\"component\")\n",
    ")\n",
    "joined_with_cabling = (\n",
    "    with_components.filter((pl.col(\"component\").is_not_null()))\n",
    "    .join(vitters_cabling, left_on=\"1st cable no.\", right_on=\"Cable no.\", how=\"left\")\n",
    "    .select(\n",
    "        pl.col(\"component\"),\n",
    "        pl.col(\"1st cable no.\"),\n",
    "        pl.col(\"Source pos\").alias(\"first source pos\"),\n",
    "        pl.col(\"Target pos\").alias(\"first target\"),\n",
    "        pl.col(\"PLC var-Name\"),\n",
    "        pl.col(\"2nd cable no.\"),\n",
    "    )\n",
    "    .join(vitters_cabling, left_on=\"2nd cable no.\", right_on=\"Cable no.\", how=\"left\")\n",
    "    .select(\n",
    "        pl.col(\"component\"),\n",
    "        pl.col(\"1st cable no.\"),\n",
    "        pl.col(\"first source pos\"),\n",
    "        pl.col(\"first target\"),\n",
    "        pl.col(\"Source pos\").alias(\"second source poc\"),\n",
    "        pl.col(\"Target pos\").alias(\"second target\"),\n",
    "        pl.col(\"PLC var-Name\"),\n",
    "        pl.col(\"2nd cable no.\"),\n",
    "    )\n",
    ")"
   ]
  },
  {
   "cell_type": "code",
   "execution_count": null,
   "metadata": {},
   "outputs": [],
   "source": [
    "\n",
    "first_cable_join = vitters_cabling.join(\n",
    "  vitters_io,\n",
    "  left_on=\"Cable no.\",\n",
    "  right_on=\"1st cable no.\"\n",
    ")\n",
    "second_cable_join = vitters_cabling.join(\n",
    "  vitters_io,\n",
    "  left_on=\"Cable no.\",\n",
    "  right_on=\"2nd cable no.\"\n",
    ")\n",
    "\n",
    "missing = (\n",
    "    set(vitters_io[\"PLC var-Name\"].to_list())\n",
    "    - set(first_cable_join[\"PLC var-Name\"].to_list())\n",
    "    - set(second_cable_join[\"PLC var-Name\"].to_list())\n",
    ")\n",
    "\n",
    "blabla = vitters_io.filter(polars.col(\"PLC var-Name\").is_in(missing) & polars.col(\"IO box / Location\").is_in([\"KEEL\", \"MST\"]))\n",
    "\n",
    "\n",
    "# (polars.col(\"Cable no.\") == polars.col(\"2nd cable no.\"))"
   ]
  }
 ],
 "metadata": {
  "kernelspec": {
   "display_name": ".venv",
   "language": "python",
   "name": "python3"
  },
  "language_info": {
   "codemirror_mode": {
    "name": "ipython",
    "version": 3
   },
   "file_extension": ".py",
   "mimetype": "text/x-python",
   "name": "python",
   "nbconvert_exporter": "python",
   "pygments_lexer": "ipython3",
   "version": "3.13.0"
  }
 },
 "nbformat": 4,
 "nbformat_minor": 2
}
