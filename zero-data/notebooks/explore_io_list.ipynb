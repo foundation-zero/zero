{
 "cells": [
  {
   "cell_type": "code",
   "execution_count": 11,
   "id": "initial_id",
   "metadata": {
    "ExecuteTime": {
     "end_time": "2025-03-20T13:47:12.128958Z",
     "start_time": "2025-03-20T13:47:11.479431Z"
    },
    "collapsed": true
   },
   "outputs": [
    {
     "data": {
      "text/html": [
       "<div><style>\n",
       ".dataframe > thead > tr,\n",
       ".dataframe > tbody > tr {\n",
       "  text-align: right;\n",
       "  white-space: pre-wrap;\n",
       "}\n",
       "</style>\n",
       "<small>shape: (471, 73)</small><table border=\"1\" class=\"dataframe\"><thead><tr><th>rev.</th><th>deleted</th><th>target_type</th><th>device</th><th>module</th><th>module_type</th><th>terminal</th><th>is_subscribe</th><th>prefix_device</th><th>tag</th><th>cabinet</th><th>opc_ua_node_id</th><th>opc_ua_publish_interval</th><th>system</th><th>yard_tag</th><th>description</th><th>parent</th><th>redundant_tag</th><th>p&amp;id</th><th>cable_id</th><th>cable_type</th><th>cable_core_no.</th><th>mqtt_topic</th><th>mqtt_json_path</th><th>modbus_slave_address</th><th>modbus_data_type</th><th>modbus_address</th><th>modbus_source_type</th><th>modbus_byte_size</th><th>modbus_swap_words</th><th>modbus_lower</th><th>modbus_upper</th><th>range_lower</th><th>range_upper</th><th>unit</th><th>precision</th><th>alert_code</th><th>alert_hh</th><th>alert_h</th><th>alert_l</th><th>alert_ll</th><th>alert_f</th><th>delay_on</th><th>acknowledge_location</th><th>sounding_locations</th><th>alert_priority</th><th>intended_operator_response</th><th>category_a</th><th>group_alarm</th><th>call_gea_on_alert_</th><th>disallow_inhibit</th><th>vdr_id</th><th>general_lock_tag</th><th>general_lock_operator</th><th>general_lock_level</th><th>hh_lock_tag</th><th>hh_lock_operator</th><th>hh_lock_level</th><th>h_lock_tag</th><th>h_lock_operator</th><th>h_lock_level</th><th>l_lock_tag</th><th>l_lock_operator</th><th>l_lock_level</th><th>ll_lock_tag</th><th>ll_lock_operator</th><th>ll_lock_level</th><th>do_not_log</th><th>log_to_daily_report</th><th>log_to_cdp</th><th>workstation</th><th>timestamp</th><th>data_type</th></tr><tr><td>str</td><td>str</td><td>str</td><td>str</td><td>str</td><td>str</td><td>str</td><td>null</td><td>str</td><td>str</td><td>str</td><td>null</td><td>str</td><td>str</td><td>str</td><td>str</td><td>null</td><td>null</td><td>null</td><td>str</td><td>str</td><td>null</td><td>null</td><td>null</td><td>str</td><td>str</td><td>str</td><td>null</td><td>null</td><td>null</td><td>null</td><td>null</td><td>str</td><td>str</td><td>str</td><td>null</td><td>str</td><td>str</td><td>str</td><td>str</td><td>null</td><td>str</td><td>str</td><td>str</td><td>str</td><td>str</td><td>str</td><td>null</td><td>str</td><td>null</td><td>null</td><td>str</td><td>null</td><td>null</td><td>null</td><td>null</td><td>null</td><td>null</td><td>null</td><td>null</td><td>null</td><td>null</td><td>null</td><td>null</td><td>null</td><td>null</td><td>null</td><td>null</td><td>null</td><td>null</td><td>null</td><td>null</td><td>str</td></tr></thead><tbody><tr><td>&quot;R1.14_FAT&quot;</td><td>null</td><td>&quot;Bool&quot;</td><td>&quot;KEB1&quot;</td><td>&quot;R1&quot;</td><td>&quot;750-626/020-002&quot;</td><td>&quot;0&quot;</td><td>null</td><td>&quot;True&quot;</td><td>&quot;GFDEnabled&quot;</td><td>&quot;DSK_SWR&quot;</td><td>null</td><td>&quot;1000&quot;</td><td>&quot;4500 AMCS&quot;</td><td>null</td><td>&quot;MTS AMCS KEB1 Ground Fault Dia…</td><td>null</td><td>null</td><td>null</td><td>null</td><td>null</td><td>null</td><td>null</td><td>null</td><td>null</td><td>null</td><td>null</td><td>null</td><td>null</td><td>null</td><td>null</td><td>null</td><td>null</td><td>null</td><td>null</td><td>null</td><td>null</td><td>null</td><td>null</td><td>null</td><td>null</td><td>null</td><td>null</td><td>null</td><td>null</td><td>null</td><td>null</td><td>null</td><td>null</td><td>null</td><td>null</td><td>null</td><td>null</td><td>null</td><td>null</td><td>null</td><td>null</td><td>null</td><td>null</td><td>null</td><td>null</td><td>null</td><td>null</td><td>null</td><td>null</td><td>null</td><td>null</td><td>null</td><td>null</td><td>null</td><td>null</td><td>null</td><td>&quot;BOOLEAN&quot;</td></tr><tr><td>&quot;R1.14_FAT&quot;</td><td>null</td><td>&quot;Bool&quot;</td><td>&quot;KEB1&quot;</td><td>&quot;R1&quot;</td><td>&quot;750-626/020-002&quot;</td><td>&quot;2&quot;</td><td>null</td><td>&quot;True&quot;</td><td>&quot;FieldVoltageAvailable&quot;</td><td>&quot;DSK_SWR&quot;</td><td>null</td><td>&quot;1000&quot;</td><td>&quot;4500 AMCS&quot;</td><td>null</td><td>&quot;MTS AMCS KEB1 Voltage Availabl…</td><td>null</td><td>null</td><td>null</td><td>null</td><td>null</td><td>null</td><td>null</td><td>null</td><td>null</td><td>null</td><td>null</td><td>null</td><td>null</td><td>null</td><td>null</td><td>null</td><td>null</td><td>null</td><td>null</td><td>null</td><td>null</td><td>null</td><td>null</td><td>null</td><td>null</td><td>null</td><td>null</td><td>null</td><td>null</td><td>null</td><td>null</td><td>null</td><td>null</td><td>null</td><td>null</td><td>null</td><td>null</td><td>null</td><td>null</td><td>null</td><td>null</td><td>null</td><td>null</td><td>null</td><td>null</td><td>null</td><td>null</td><td>null</td><td>null</td><td>null</td><td>null</td><td>null</td><td>null</td><td>null</td><td>null</td><td>null</td><td>&quot;BOOLEAN&quot;</td></tr><tr><td>&quot;R1.14_FAT&quot;</td><td>null</td><td>&quot;Bool&quot;</td><td>&quot;KEB1&quot;</td><td>&quot;R1&quot;</td><td>&quot;750-626/020-002&quot;</td><td>&quot;4&quot;</td><td>null</td><td>&quot;True&quot;</td><td>&quot;PA24V&quot;</td><td>&quot;DSK_SWR&quot;</td><td>null</td><td>&quot;1000&quot;</td><td>&quot;4500 AMCS&quot;</td><td>null</td><td>&quot;MTS AMCS KEB1 Power Distributi…</td><td>null</td><td>null</td><td>null</td><td>null</td><td>null</td><td>null</td><td>null</td><td>null</td><td>null</td><td>null</td><td>null</td><td>null</td><td>null</td><td>null</td><td>null</td><td>null</td><td>null</td><td>null</td><td>null</td><td>null</td><td>&quot;6&quot;</td><td>null</td><td>null</td><td>null</td><td>null</td><td>&quot;True&quot;</td><td>null</td><td>&quot;TS&quot;</td><td>null</td><td>&quot;Alarm&quot;</td><td>&quot;Check for earth fault&quot;</td><td>null</td><td>null</td><td>null</td><td>null</td><td>&quot;1&quot;</td><td>null</td><td>null</td><td>null</td><td>null</td><td>null</td><td>null</td><td>null</td><td>null</td><td>null</td><td>null</td><td>null</td><td>null</td><td>null</td><td>null</td><td>null</td><td>null</td><td>null</td><td>null</td><td>null</td><td>null</td><td>&quot;BOOLEAN&quot;</td></tr><tr><td>&quot;R1.14_FAT&quot;</td><td>null</td><td>&quot;Bool&quot;</td><td>&quot;KEB1&quot;</td><td>&quot;R1&quot;</td><td>&quot;750-626/020-002&quot;</td><td>&quot;5&quot;</td><td>null</td><td>&quot;True&quot;</td><td>&quot;MA24V&quot;</td><td>&quot;DSK_SWR&quot;</td><td>null</td><td>&quot;1000&quot;</td><td>&quot;4500 AMCS&quot;</td><td>null</td><td>&quot;MTS AMCS KEB1 Power Distributi…</td><td>null</td><td>null</td><td>null</td><td>null</td><td>null</td><td>null</td><td>null</td><td>null</td><td>null</td><td>null</td><td>null</td><td>null</td><td>null</td><td>null</td><td>null</td><td>null</td><td>null</td><td>null</td><td>null</td><td>null</td><td>&quot;7&quot;</td><td>null</td><td>null</td><td>null</td><td>null</td><td>&quot;True&quot;</td><td>null</td><td>&quot;TS&quot;</td><td>null</td><td>&quot;Alarm&quot;</td><td>&quot;Check for earth fault&quot;</td><td>null</td><td>null</td><td>null</td><td>null</td><td>&quot;1&quot;</td><td>null</td><td>null</td><td>null</td><td>null</td><td>null</td><td>null</td><td>null</td><td>null</td><td>null</td><td>null</td><td>null</td><td>null</td><td>null</td><td>null</td><td>null</td><td>null</td><td>null</td><td>null</td><td>null</td><td>null</td><td>&quot;BOOLEAN&quot;</td></tr><tr><td>&quot;R1.14_FAT&quot;</td><td>null</td><td>&quot;Bool&quot;</td><td>&quot;KEB1&quot;</td><td>&quot;R1&quot;</td><td>&quot;750-626/020-002&quot;</td><td>&quot;6&quot;</td><td>null</td><td>&quot;True&quot;</td><td>&quot;PA0V&quot;</td><td>&quot;DSK_SWR&quot;</td><td>null</td><td>&quot;1000&quot;</td><td>&quot;4500 AMCS&quot;</td><td>null</td><td>&quot;MTS AMCS KEB1 Power Distributi…</td><td>null</td><td>null</td><td>null</td><td>null</td><td>null</td><td>null</td><td>null</td><td>null</td><td>null</td><td>null</td><td>null</td><td>null</td><td>null</td><td>null</td><td>null</td><td>null</td><td>null</td><td>null</td><td>null</td><td>null</td><td>&quot;8&quot;</td><td>null</td><td>null</td><td>null</td><td>null</td><td>&quot;True&quot;</td><td>null</td><td>&quot;TS&quot;</td><td>null</td><td>&quot;Alarm&quot;</td><td>&quot;Check for earth fault&quot;</td><td>null</td><td>null</td><td>null</td><td>null</td><td>&quot;1&quot;</td><td>null</td><td>null</td><td>null</td><td>null</td><td>null</td><td>null</td><td>null</td><td>null</td><td>null</td><td>null</td><td>null</td><td>null</td><td>null</td><td>null</td><td>null</td><td>null</td><td>null</td><td>null</td><td>null</td><td>null</td><td>&quot;BOOLEAN&quot;</td></tr><tr><td>&hellip;</td><td>&hellip;</td><td>&hellip;</td><td>&hellip;</td><td>&hellip;</td><td>&hellip;</td><td>&hellip;</td><td>&hellip;</td><td>&hellip;</td><td>&hellip;</td><td>&hellip;</td><td>&hellip;</td><td>&hellip;</td><td>&hellip;</td><td>&hellip;</td><td>&hellip;</td><td>&hellip;</td><td>&hellip;</td><td>&hellip;</td><td>&hellip;</td><td>&hellip;</td><td>&hellip;</td><td>&hellip;</td><td>&hellip;</td><td>&hellip;</td><td>&hellip;</td><td>&hellip;</td><td>&hellip;</td><td>&hellip;</td><td>&hellip;</td><td>&hellip;</td><td>&hellip;</td><td>&hellip;</td><td>&hellip;</td><td>&hellip;</td><td>&hellip;</td><td>&hellip;</td><td>&hellip;</td><td>&hellip;</td><td>&hellip;</td><td>&hellip;</td><td>&hellip;</td><td>&hellip;</td><td>&hellip;</td><td>&hellip;</td><td>&hellip;</td><td>&hellip;</td><td>&hellip;</td><td>&hellip;</td><td>&hellip;</td><td>&hellip;</td><td>&hellip;</td><td>&hellip;</td><td>&hellip;</td><td>&hellip;</td><td>&hellip;</td><td>&hellip;</td><td>&hellip;</td><td>&hellip;</td><td>&hellip;</td><td>&hellip;</td><td>&hellip;</td><td>&hellip;</td><td>&hellip;</td><td>&hellip;</td><td>&hellip;</td><td>&hellip;</td><td>&hellip;</td><td>&hellip;</td><td>&hellip;</td><td>&hellip;</td><td>&hellip;</td><td>&hellip;</td></tr><tr><td>&quot;R1.10&quot;</td><td>null</td><td>&quot;Uint32&quot;</td><td>&quot;NavLights&quot;</td><td>null</td><td>null</td><td>null</td><td>null</td><td>&quot;True&quot;</td><td>&quot;Sailing_PS180_BACKUPOpTime&quot;</td><td>&quot;+CB.2&quot;</td><td>null</td><td>&quot;1000&quot;</td><td>&quot;Navigation Lights&quot;</td><td>null</td><td>&quot;Sailing PS 180° (BACKUP) Opera…</td><td>null</td><td>null</td><td>null</td><td>null</td><td>null</td><td>null</td><td>null</td><td>null</td><td>&quot;1&quot;</td><td>&quot;HoldingRegister&quot;</td><td>&quot;40042&quot;</td><td>null</td><td>null</td><td>null</td><td>null</td><td>null</td><td>null</td><td>null</td><td>&quot;Minutes&quot;</td><td>null</td><td>null</td><td>null</td><td>null</td><td>null</td><td>null</td><td>null</td><td>null</td><td>null</td><td>null</td><td>null</td><td>null</td><td>null</td><td>null</td><td>null</td><td>null</td><td>null</td><td>null</td><td>null</td><td>null</td><td>null</td><td>null</td><td>null</td><td>null</td><td>null</td><td>null</td><td>null</td><td>null</td><td>null</td><td>null</td><td>null</td><td>null</td><td>null</td><td>null</td><td>null</td><td>null</td><td>null</td><td>&quot;BIGINT&quot;</td></tr><tr><td>&quot;R1.9 &quot;</td><td>null</td><td>&quot;Uint32&quot;</td><td>&quot;NavLights&quot;</td><td>null</td><td>null</td><td>null</td><td>null</td><td>&quot;True&quot;</td><td>&quot;NUC_and_Sailing_MAINOpTime&quot;</td><td>&quot;+CB.2&quot;</td><td>null</td><td>&quot;1000&quot;</td><td>&quot;Navigation Lights&quot;</td><td>null</td><td>&quot;NUC &amp; Sailing (MAIN) Operating…</td><td>null</td><td>null</td><td>null</td><td>null</td><td>null</td><td>null</td><td>null</td><td>null</td><td>&quot;1&quot;</td><td>&quot;HoldingRegister&quot;</td><td>&quot;40044&quot;</td><td>null</td><td>null</td><td>null</td><td>null</td><td>null</td><td>null</td><td>null</td><td>&quot;Minutes&quot;</td><td>null</td><td>null</td><td>null</td><td>null</td><td>null</td><td>null</td><td>null</td><td>null</td><td>null</td><td>null</td><td>null</td><td>null</td><td>null</td><td>null</td><td>null</td><td>null</td><td>null</td><td>null</td><td>null</td><td>null</td><td>null</td><td>null</td><td>null</td><td>null</td><td>null</td><td>null</td><td>null</td><td>null</td><td>null</td><td>null</td><td>null</td><td>null</td><td>null</td><td>null</td><td>null</td><td>null</td><td>null</td><td>&quot;BIGINT&quot;</td></tr><tr><td>&quot;R1.9 &quot;</td><td>null</td><td>&quot;Uint32&quot;</td><td>&quot;NavLights&quot;</td><td>null</td><td>null</td><td>null</td><td>null</td><td>&quot;True&quot;</td><td>&quot;NUC_and_Sailing_BACKUPOpTime&quot;</td><td>&quot;+CB.2&quot;</td><td>null</td><td>&quot;1000&quot;</td><td>&quot;Navigation Lights&quot;</td><td>null</td><td>&quot;NUC &amp; Sailing (BACKUP) Operati…</td><td>null</td><td>null</td><td>null</td><td>null</td><td>null</td><td>null</td><td>null</td><td>null</td><td>&quot;1&quot;</td><td>&quot;HoldingRegister&quot;</td><td>&quot;40046&quot;</td><td>null</td><td>null</td><td>null</td><td>null</td><td>null</td><td>null</td><td>null</td><td>&quot;Minutes&quot;</td><td>null</td><td>null</td><td>null</td><td>null</td><td>null</td><td>null</td><td>null</td><td>null</td><td>null</td><td>null</td><td>null</td><td>null</td><td>null</td><td>null</td><td>null</td><td>null</td><td>null</td><td>null</td><td>null</td><td>null</td><td>null</td><td>null</td><td>null</td><td>null</td><td>null</td><td>null</td><td>null</td><td>null</td><td>null</td><td>null</td><td>null</td><td>null</td><td>null</td><td>null</td><td>null</td><td>null</td><td>null</td><td>&quot;BIGINT&quot;</td></tr><tr><td>&quot;R1.9 &quot;</td><td>null</td><td>&quot;Uint32&quot;</td><td>&quot;NavLights&quot;</td><td>null</td><td>null</td><td>null</td><td>null</td><td>&quot;True&quot;</td><td>&quot;Stern_MAINOpTime&quot;</td><td>&quot;+CB.2&quot;</td><td>null</td><td>&quot;1000&quot;</td><td>&quot;Navigation Lights&quot;</td><td>null</td><td>&quot;Stern (MAIN) Operating Time&quot;</td><td>null</td><td>null</td><td>null</td><td>null</td><td>null</td><td>null</td><td>null</td><td>null</td><td>&quot;1&quot;</td><td>&quot;HoldingRegister&quot;</td><td>&quot;40048&quot;</td><td>null</td><td>null</td><td>null</td><td>null</td><td>null</td><td>null</td><td>null</td><td>&quot;Minutes&quot;</td><td>null</td><td>null</td><td>null</td><td>null</td><td>null</td><td>null</td><td>null</td><td>null</td><td>null</td><td>null</td><td>null</td><td>null</td><td>null</td><td>null</td><td>null</td><td>null</td><td>null</td><td>null</td><td>null</td><td>null</td><td>null</td><td>null</td><td>null</td><td>null</td><td>null</td><td>null</td><td>null</td><td>null</td><td>null</td><td>null</td><td>null</td><td>null</td><td>null</td><td>null</td><td>null</td><td>null</td><td>null</td><td>&quot;BIGINT&quot;</td></tr><tr><td>&quot;R1.9 &quot;</td><td>null</td><td>&quot;Uint32&quot;</td><td>&quot;NavLights&quot;</td><td>null</td><td>null</td><td>null</td><td>null</td><td>&quot;True&quot;</td><td>&quot;Stern_BACKUPOpTime&quot;</td><td>&quot;+CB.2&quot;</td><td>null</td><td>&quot;1000&quot;</td><td>&quot;Navigation Lights&quot;</td><td>null</td><td>&quot;Stern (BACKUP) Operating Time&quot;</td><td>null</td><td>null</td><td>null</td><td>null</td><td>null</td><td>null</td><td>null</td><td>null</td><td>&quot;1&quot;</td><td>&quot;HoldingRegister&quot;</td><td>&quot;40050&quot;</td><td>null</td><td>null</td><td>null</td><td>null</td><td>null</td><td>null</td><td>null</td><td>&quot;Minutes&quot;</td><td>null</td><td>null</td><td>null</td><td>null</td><td>null</td><td>null</td><td>null</td><td>null</td><td>null</td><td>null</td><td>null</td><td>null</td><td>null</td><td>null</td><td>null</td><td>null</td><td>null</td><td>null</td><td>null</td><td>null</td><td>null</td><td>null</td><td>null</td><td>null</td><td>null</td><td>null</td><td>null</td><td>null</td><td>null</td><td>null</td><td>null</td><td>null</td><td>null</td><td>null</td><td>null</td><td>null</td><td>null</td><td>&quot;BIGINT&quot;</td></tr></tbody></table></div>"
      ],
      "text/plain": [
       "shape: (471, 73)\n",
       "┌───────────┬─────────┬────────────┬───────────┬───┬───────────┬───────────┬───────────┬───────────┐\n",
       "│ rev.      ┆ deleted ┆ target_typ ┆ device    ┆ … ┆ log_to_cd ┆ workstati ┆ timestamp ┆ data_type │\n",
       "│ ---       ┆ ---     ┆ e          ┆ ---       ┆   ┆ p         ┆ on        ┆ ---       ┆ ---       │\n",
       "│ str       ┆ str     ┆ ---        ┆ str       ┆   ┆ ---       ┆ ---       ┆ null      ┆ str       │\n",
       "│           ┆         ┆ str        ┆           ┆   ┆ null      ┆ null      ┆           ┆           │\n",
       "╞═══════════╪═════════╪════════════╪═══════════╪═══╪═══════════╪═══════════╪═══════════╪═══════════╡\n",
       "│ R1.14_FAT ┆ null    ┆ Bool       ┆ KEB1      ┆ … ┆ null      ┆ null      ┆ null      ┆ BOOLEAN   │\n",
       "│ R1.14_FAT ┆ null    ┆ Bool       ┆ KEB1      ┆ … ┆ null      ┆ null      ┆ null      ┆ BOOLEAN   │\n",
       "│ R1.14_FAT ┆ null    ┆ Bool       ┆ KEB1      ┆ … ┆ null      ┆ null      ┆ null      ┆ BOOLEAN   │\n",
       "│ R1.14_FAT ┆ null    ┆ Bool       ┆ KEB1      ┆ … ┆ null      ┆ null      ┆ null      ┆ BOOLEAN   │\n",
       "│ R1.14_FAT ┆ null    ┆ Bool       ┆ KEB1      ┆ … ┆ null      ┆ null      ┆ null      ┆ BOOLEAN   │\n",
       "│ …         ┆ …       ┆ …          ┆ …         ┆ … ┆ …         ┆ …         ┆ …         ┆ …         │\n",
       "│ R1.10     ┆ null    ┆ Uint32     ┆ NavLights ┆ … ┆ null      ┆ null      ┆ null      ┆ BIGINT    │\n",
       "│ R1.9      ┆ null    ┆ Uint32     ┆ NavLights ┆ … ┆ null      ┆ null      ┆ null      ┆ BIGINT    │\n",
       "│ R1.9      ┆ null    ┆ Uint32     ┆ NavLights ┆ … ┆ null      ┆ null      ┆ null      ┆ BIGINT    │\n",
       "│ R1.9      ┆ null    ┆ Uint32     ┆ NavLights ┆ … ┆ null      ┆ null      ┆ null      ┆ BIGINT    │\n",
       "│ R1.9      ┆ null    ┆ Uint32     ┆ NavLights ┆ … ┆ null      ┆ null      ┆ null      ┆ BIGINT    │\n",
       "└───────────┴─────────┴────────────┴───────────┴───┴───────────┴───────────┴───────────┴───────────┘"
      ]
     },
     "execution_count": 11,
     "metadata": {},
     "output_type": "execute_result"
    }
   ],
   "source": [
    "from pathlib import Path\n",
    "from zero_data.io_list.readers.marpower import MarpowerReader\n",
    "import polars as pl\n",
    "df = MarpowerReader().read_io_list(Path(\"../io_lists/52422003_3210_AMCS IO-List R2.1.xlsx\")).io_list\n",
    "df"
   ]
  },
  {
   "cell_type": "markdown",
   "id": "abc46e2e0b1e147d",
   "metadata": {},
   "source": [
    "The goal of this notebook is to explore the Eekels IO list and compare different ways to group the fields in to topics:\n",
    "- Yard tag\n",
    "- System\n",
    "- Device+Module"
   ]
  },
  {
   "cell_type": "markdown",
   "id": "651c4d112762458a",
   "metadata": {},
   "source": [
    "## Yard tag\n",
    "Yard tag is a unique identifier for a component."
   ]
  },
  {
   "cell_type": "code",
   "execution_count": 12,
   "id": "ad320897cf1093bd",
   "metadata": {
    "ExecuteTime": {
     "end_time": "2025-03-20T13:47:12.230153Z",
     "start_time": "2025-03-20T13:47:12.227018Z"
    }
   },
   "outputs": [
    {
     "data": {
      "text/html": [
       "<div><style>\n",
       ".dataframe > thead > tr,\n",
       ".dataframe > tbody > tr {\n",
       "  text-align: right;\n",
       "  white-space: pre-wrap;\n",
       "}\n",
       "</style>\n",
       "<small>shape: (6, 2)</small><table border=\"1\" class=\"dataframe\"><thead><tr><th>number_of_fields</th><th>number_of_topics</th></tr><tr><td>u32</td><td>u32</td></tr></thead><tbody><tr><td>5</td><td>2</td></tr><tr><td>4</td><td>3</td></tr><tr><td>1</td><td>94</td></tr><tr><td>2</td><td>16</td></tr><tr><td>299</td><td>1</td></tr><tr><td>3</td><td>8</td></tr></tbody></table></div>"
      ],
      "text/plain": [
       "shape: (6, 2)\n",
       "┌──────────────────┬──────────────────┐\n",
       "│ number_of_fields ┆ number_of_topics │\n",
       "│ ---              ┆ ---              │\n",
       "│ u32              ┆ u32              │\n",
       "╞══════════════════╪══════════════════╡\n",
       "│ 5                ┆ 2                │\n",
       "│ 4                ┆ 3                │\n",
       "│ 1                ┆ 94               │\n",
       "│ 2                ┆ 16               │\n",
       "│ 299              ┆ 1                │\n",
       "│ 3                ┆ 8                │\n",
       "└──────────────────┴──────────────────┘"
      ]
     },
     "execution_count": 12,
     "metadata": {},
     "output_type": "execute_result"
    }
   ],
   "source": [
    "df.group_by(\"yard_tag\").len(\"number_of_fields\").group_by(\"number_of_fields\").len(\"number_of_topics\")"
   ]
  },
  {
   "cell_type": "code",
   "execution_count": 13,
   "id": "fdd19ff9269f78b4",
   "metadata": {
    "ExecuteTime": {
     "end_time": "2025-03-20T13:47:12.312260Z",
     "start_time": "2025-03-20T13:47:12.309150Z"
    }
   },
   "outputs": [
    {
     "data": {
      "text/html": [
       "<div><style>\n",
       ".dataframe > thead > tr,\n",
       ".dataframe > tbody > tr {\n",
       "  text-align: right;\n",
       "  white-space: pre-wrap;\n",
       "}\n",
       "</style>\n",
       "<small>shape: (1, 1)</small><table border=\"1\" class=\"dataframe\"><thead><tr><th>null_count</th></tr><tr><td>u32</td></tr></thead><tbody><tr><td>299</td></tr></tbody></table></div>"
      ],
      "text/plain": [
       "shape: (1, 1)\n",
       "┌────────────┐\n",
       "│ null_count │\n",
       "│ ---        │\n",
       "│ u32        │\n",
       "╞════════════╡\n",
       "│ 299        │\n",
       "└────────────┘"
      ]
     },
     "execution_count": 13,
     "metadata": {},
     "output_type": "execute_result"
    }
   ],
   "source": [
    "df.filter(pl.col(\"yard_tag\").is_null()).select(pl.len().alias(\"null_count\"))"
   ]
  },
  {
   "cell_type": "markdown",
   "id": "59feead0d05d8d2d",
   "metadata": {},
   "source": [
    "## System\n",
    "System is a functional tag that is given by Vitters. The advantage of using this to group our topics is that the fields are grouped based on function."
   ]
  },
  {
   "cell_type": "code",
   "execution_count": 14,
   "id": "cdd958e0bb57804c",
   "metadata": {
    "ExecuteTime": {
     "end_time": "2025-03-20T13:47:12.723771Z",
     "start_time": "2025-03-20T13:47:12.720031Z"
    }
   },
   "outputs": [
    {
     "data": {
      "text/html": [
       "<div><style>\n",
       ".dataframe > thead > tr,\n",
       ".dataframe > tbody > tr {\n",
       "  text-align: right;\n",
       "  white-space: pre-wrap;\n",
       "}\n",
       "</style>\n",
       "<small>shape: (16, 2)</small><table border=\"1\" class=\"dataframe\"><thead><tr><th>number_of_fields</th><th>number_of_topics</th></tr><tr><td>u32</td><td>u32</td></tr></thead><tbody><tr><td>42</td><td>1</td></tr><tr><td>1</td><td>5</td></tr><tr><td>20</td><td>1</td></tr><tr><td>54</td><td>1</td></tr><tr><td>17</td><td>1</td></tr><tr><td>&hellip;</td><td>&hellip;</td></tr><tr><td>33</td><td>1</td></tr><tr><td>14</td><td>1</td></tr><tr><td>2</td><td>3</td></tr><tr><td>38</td><td>1</td></tr><tr><td>24</td><td>1</td></tr></tbody></table></div>"
      ],
      "text/plain": [
       "shape: (16, 2)\n",
       "┌──────────────────┬──────────────────┐\n",
       "│ number_of_fields ┆ number_of_topics │\n",
       "│ ---              ┆ ---              │\n",
       "│ u32              ┆ u32              │\n",
       "╞══════════════════╪══════════════════╡\n",
       "│ 42               ┆ 1                │\n",
       "│ 1                ┆ 5                │\n",
       "│ 20               ┆ 1                │\n",
       "│ 54               ┆ 1                │\n",
       "│ 17               ┆ 1                │\n",
       "│ …                ┆ …                │\n",
       "│ 33               ┆ 1                │\n",
       "│ 14               ┆ 1                │\n",
       "│ 2                ┆ 3                │\n",
       "│ 38               ┆ 1                │\n",
       "│ 24               ┆ 1                │\n",
       "└──────────────────┴──────────────────┘"
      ]
     },
     "execution_count": 14,
     "metadata": {},
     "output_type": "execute_result"
    }
   ],
   "source": [
    "df.group_by(\"system\").len(\"number_of_fields\").group_by(\"number_of_fields\").len(\"number_of_topics\")"
   ]
  },
  {
   "cell_type": "code",
   "execution_count": 15,
   "id": "94f4b1c2ddec1563",
   "metadata": {
    "ExecuteTime": {
     "end_time": "2025-03-20T13:47:12.854127Z",
     "start_time": "2025-03-20T13:47:12.850915Z"
    }
   },
   "outputs": [
    {
     "data": {
      "text/html": [
       "<div><style>\n",
       ".dataframe > thead > tr,\n",
       ".dataframe > tbody > tr {\n",
       "  text-align: right;\n",
       "  white-space: pre-wrap;\n",
       "}\n",
       "</style>\n",
       "<small>shape: (24, 2)</small><table border=\"1\" class=\"dataframe\"><thead><tr><th>system</th><th>number_of_fields</th></tr><tr><td>str</td><td>u32</td></tr></thead><tbody><tr><td>&quot;4500 AMCS&quot;</td><td>95</td></tr><tr><td>&quot;Navigation Lights&quot;</td><td>80</td></tr><tr><td>&quot;2500 FRESH WATER&quot;</td><td>54</td></tr><tr><td>&quot;3500 VENTILATION&quot;</td><td>42</td></tr><tr><td>&quot;0900 DOORS HATCHES&quot;</td><td>38</td></tr><tr><td>&hellip;</td><td>&hellip;</td></tr><tr><td>&quot;AMCS - CTRL&quot;</td><td>1</td></tr><tr><td>&quot;2900 PNEUMATIC &quot;</td><td>1</td></tr><tr><td>&quot;2102 BILGE FIFI&quot;</td><td>1</td></tr><tr><td>&quot;7500 PASSERELLE&quot;</td><td>1</td></tr><tr><td>&quot;4500 FIREDETECTION&quot;</td><td>1</td></tr></tbody></table></div>"
      ],
      "text/plain": [
       "shape: (24, 2)\n",
       "┌────────────────────┬──────────────────┐\n",
       "│ system             ┆ number_of_fields │\n",
       "│ ---                ┆ ---              │\n",
       "│ str                ┆ u32              │\n",
       "╞════════════════════╪══════════════════╡\n",
       "│ 4500 AMCS          ┆ 95               │\n",
       "│ Navigation Lights  ┆ 80               │\n",
       "│ 2500 FRESH WATER   ┆ 54               │\n",
       "│ 3500 VENTILATION   ┆ 42               │\n",
       "│ 0900 DOORS HATCHES ┆ 38               │\n",
       "│ …                  ┆ …                │\n",
       "│ AMCS - CTRL        ┆ 1                │\n",
       "│ 2900 PNEUMATIC     ┆ 1                │\n",
       "│ 2102 BILGE FIFI    ┆ 1                │\n",
       "│ 7500 PASSERELLE    ┆ 1                │\n",
       "│ 4500 FIREDETECTION ┆ 1                │\n",
       "└────────────────────┴──────────────────┘"
      ]
     },
     "execution_count": 15,
     "metadata": {},
     "output_type": "execute_result"
    }
   ],
   "source": [
    "df.group_by(\"system\").len(\"number_of_fields\").sort(\"number_of_fields\", descending=True)"
   ]
  },
  {
   "cell_type": "markdown",
   "id": "982ab7a9249ab664",
   "metadata": {},
   "source": [
    "## Device - Module\n",
    "This is a combination of the AMCS device and the PLC module it is connected to and has no functional meaning."
   ]
  },
  {
   "cell_type": "code",
   "execution_count": 16,
   "id": "734e4324c73b9732",
   "metadata": {
    "ExecuteTime": {
     "end_time": "2025-03-20T13:47:13.173511Z",
     "start_time": "2025-03-20T13:47:13.170102Z"
    }
   },
   "outputs": [
    {
     "data": {
      "text/html": [
       "<div><style>\n",
       ".dataframe > thead > tr,\n",
       ".dataframe > tbody > tr {\n",
       "  text-align: right;\n",
       "  white-space: pre-wrap;\n",
       "}\n",
       "</style>\n",
       "<small>shape: (9, 2)</small><table border=\"1\" class=\"dataframe\"><thead><tr><th>number_of_fields</th><th>number_of_topics</th></tr><tr><td>u32</td><td>u32</td></tr></thead><tbody><tr><td>80</td><td>1</td></tr><tr><td>16</td><td>2</td></tr><tr><td>8</td><td>25</td></tr><tr><td>7</td><td>2</td></tr><tr><td>6</td><td>6</td></tr><tr><td>4</td><td>22</td></tr><tr><td>3</td><td>1</td></tr><tr><td>2</td><td>8</td></tr><tr><td>1</td><td>2</td></tr></tbody></table></div>"
      ],
      "text/plain": [
       "shape: (9, 2)\n",
       "┌──────────────────┬──────────────────┐\n",
       "│ number_of_fields ┆ number_of_topics │\n",
       "│ ---              ┆ ---              │\n",
       "│ u32              ┆ u32              │\n",
       "╞══════════════════╪══════════════════╡\n",
       "│ 80               ┆ 1                │\n",
       "│ 16               ┆ 2                │\n",
       "│ 8                ┆ 25               │\n",
       "│ 7                ┆ 2                │\n",
       "│ 6                ┆ 6                │\n",
       "│ 4                ┆ 22               │\n",
       "│ 3                ┆ 1                │\n",
       "│ 2                ┆ 8                │\n",
       "│ 1                ┆ 2                │\n",
       "└──────────────────┴──────────────────┘"
      ]
     },
     "execution_count": 16,
     "metadata": {},
     "output_type": "execute_result"
    }
   ],
   "source": [
    "df.group_by(\"device\", \"module\").len(\"number_of_fields\").group_by(\"number_of_fields\").len(\"number_of_topics\").sort(\"number_of_fields\", descending=True)"
   ]
  },
  {
   "cell_type": "code",
   "execution_count": 17,
   "id": "1b34dc52a34232b5",
   "metadata": {
    "ExecuteTime": {
     "end_time": "2025-03-20T13:47:13.508813Z",
     "start_time": "2025-03-20T13:47:13.505303Z"
    }
   },
   "outputs": [
    {
     "data": {
      "text/html": [
       "<div><style>\n",
       ".dataframe > thead > tr,\n",
       ".dataframe > tbody > tr {\n",
       "  text-align: right;\n",
       "  white-space: pre-wrap;\n",
       "}\n",
       "</style>\n",
       "<small>shape: (69, 3)</small><table border=\"1\" class=\"dataframe\"><thead><tr><th>device</th><th>module</th><th>number_of_fields</th></tr><tr><td>str</td><td>str</td><td>u32</td></tr></thead><tbody><tr><td>&quot;NavLights&quot;</td><td>null</td><td>80</td></tr><tr><td>&quot;KEB1&quot;</td><td>&quot;DO61&quot;</td><td>16</td></tr><tr><td>&quot;KEB1&quot;</td><td>&quot;DO60&quot;</td><td>16</td></tr><tr><td>&quot;KEB1&quot;</td><td>&quot;DO00&quot;</td><td>8</td></tr><tr><td>&quot;KEB1&quot;</td><td>&quot;DI29&quot;</td><td>8</td></tr><tr><td>&hellip;</td><td>&hellip;</td><td>&hellip;</td></tr><tr><td>&quot;KEB2&quot;</td><td>&quot;AO60&quot;</td><td>2</td></tr><tr><td>&quot;KEB1&quot;</td><td>&quot;AI31&quot;</td><td>2</td></tr><tr><td>&quot;KEB1&quot;</td><td>&quot;AO60&quot;</td><td>2</td></tr><tr><td>&quot;KEB2&quot;</td><td>&quot;DI30&quot;</td><td>1</td></tr><tr><td>&quot;KEB2&quot;</td><td>&quot;AI29&quot;</td><td>1</td></tr></tbody></table></div>"
      ],
      "text/plain": [
       "shape: (69, 3)\n",
       "┌───────────┬────────┬──────────────────┐\n",
       "│ device    ┆ module ┆ number_of_fields │\n",
       "│ ---       ┆ ---    ┆ ---              │\n",
       "│ str       ┆ str    ┆ u32              │\n",
       "╞═══════════╪════════╪══════════════════╡\n",
       "│ NavLights ┆ null   ┆ 80               │\n",
       "│ KEB1      ┆ DO61   ┆ 16               │\n",
       "│ KEB1      ┆ DO60   ┆ 16               │\n",
       "│ KEB1      ┆ DO00   ┆ 8                │\n",
       "│ KEB1      ┆ DI29   ┆ 8                │\n",
       "│ …         ┆ …      ┆ …                │\n",
       "│ KEB2      ┆ AO60   ┆ 2                │\n",
       "│ KEB1      ┆ AI31   ┆ 2                │\n",
       "│ KEB1      ┆ AO60   ┆ 2                │\n",
       "│ KEB2      ┆ DI30   ┆ 1                │\n",
       "│ KEB2      ┆ AI29   ┆ 1                │\n",
       "└───────────┴────────┴──────────────────┘"
      ]
     },
     "execution_count": 17,
     "metadata": {},
     "output_type": "execute_result"
    }
   ],
   "source": [
    "df.group_by(\"device\", \"module\").len(\"number_of_fields\").sort(\"number_of_fields\", descending=True)"
   ]
  },
  {
   "cell_type": "markdown",
   "id": "984de877309ae2c0",
   "metadata": {},
   "source": [
    "# IO List proposition\n",
    "We would prefer that the data is grouped by function in to topics. Having large topics includes more data duplication. So our preference would go to smaller topics. To make choices we have come up with a few principles:\n",
    "- Group by \"System\" (2500 TECHWATER, 4500 AMCS, 3400 SEWAGE, Etc)\n",
    "- Split if there is a difference in frequency of change: Alarms and (high frequency) sensors\n",
    "- For 'large' topics (number of fields > ~30) see if splitting is possible.\n",
    "- If there is a large number of fields that are similar in function, having larger topics is acceptable."
   ]
  },
  {
   "cell_type": "code",
   "execution_count": null,
   "id": "b9e9773fcec9e055",
   "metadata": {},
   "outputs": [],
   "source": []
  }
 ],
 "metadata": {
  "kernelspec": {
   "display_name": "Python 3",
   "language": "python",
   "name": "python3"
  },
  "language_info": {
   "codemirror_mode": {
    "name": "ipython",
    "version": 2
   },
   "file_extension": ".py",
   "mimetype": "text/x-python",
   "name": "python",
   "nbconvert_exporter": "python",
   "pygments_lexer": "ipython2",
   "version": "2.7.6"
  }
 },
 "nbformat": 4,
 "nbformat_minor": 5
}
